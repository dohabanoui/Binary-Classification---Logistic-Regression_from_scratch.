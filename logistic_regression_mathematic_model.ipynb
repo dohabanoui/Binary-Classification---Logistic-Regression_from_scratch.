{
 "cells": [
  {
   "cell_type": "markdown",
   "id": "e3228b8e",
   "metadata": {
    "toc": true
   },
   "source": [
    "<h1>Table of Contents<span class=\"tocSkip\"></span></h1>\n",
    "<div class=\"toc\"><ul class=\"toc-item\"><li><span><a href=\"#Logistic-Regression\" data-toc-modified-id=\"Logistic-Regression-1\"><span class=\"toc-item-num\">1&nbsp;&nbsp;</span>Logistic Regression</a></span><ul class=\"toc-item\"><li><span><a href=\"#Sigmoid-function\" data-toc-modified-id=\"Sigmoid-function-1.1\"><span class=\"toc-item-num\">1.1&nbsp;&nbsp;</span>Sigmoid function</a></span></li><li><span><a href=\"#Cost-function-for-logistic-regression\" data-toc-modified-id=\"Cost-function-for-logistic-regression-1.2\"><span class=\"toc-item-num\">1.2&nbsp;&nbsp;</span>Cost function for logistic regression</a></span><ul class=\"toc-item\"><li><span><a href=\"#2.5-Gradient-for-logistic-regression\" data-toc-modified-id=\"2.5-Gradient-for-logistic-regression-1.2.1\"><span class=\"toc-item-num\">1.2.1&nbsp;&nbsp;</span>2.5 Gradient for logistic regression</a></span></li></ul></li></ul></li><li><span><a href=\"#Dataset\" data-toc-modified-id=\"Dataset-2\"><span class=\"toc-item-num\">2&nbsp;&nbsp;</span>Dataset</a></span></li><li><span><a href=\"#'Occupancy’-en-fonction-de-'CO2'-,-'Light'\" data-toc-modified-id=\"'Occupancy’-en-fonction-de-'CO2'-,-'Light'-3\"><span class=\"toc-item-num\">3&nbsp;&nbsp;</span>'Occupancy’ en fonction de 'CO2' , 'Light'</a></span><ul class=\"toc-item\"><li><span><a href=\"#Split-the-dataset\" data-toc-modified-id=\"Split-the-dataset-3.1\"><span class=\"toc-item-num\">3.1&nbsp;&nbsp;</span>Split the dataset</a></span></li><li><span><a href=\"#Normalize-the-dataset\" data-toc-modified-id=\"Normalize-the-dataset-3.2\"><span class=\"toc-item-num\">3.2&nbsp;&nbsp;</span>Normalize the dataset</a></span></li><li><span><a href=\"#Dimensions-of-the-variables\" data-toc-modified-id=\"Dimensions-of-the-variables-3.3\"><span class=\"toc-item-num\">3.3&nbsp;&nbsp;</span>Dimensions of the variables</a></span></li><li><span><a href=\"#Function-Sigmoid\" data-toc-modified-id=\"Function-Sigmoid-3.4\"><span class=\"toc-item-num\">3.4&nbsp;&nbsp;</span>Function Sigmoid</a></span></li><li><span><a href=\"#Modele\" data-toc-modified-id=\"Modele-3.5\"><span class=\"toc-item-num\">3.5&nbsp;&nbsp;</span>Modele</a></span></li><li><span><a href=\"#Cost-Function\" data-toc-modified-id=\"Cost-Function-3.6\"><span class=\"toc-item-num\">3.6&nbsp;&nbsp;</span>Cost Function</a></span></li><li><span><a href=\"#Optimisation---Gradient-et-Descente-de-Gradient\" data-toc-modified-id=\"Optimisation---Gradient-et-Descente-de-Gradient-3.7\"><span class=\"toc-item-num\">3.7&nbsp;&nbsp;</span>Optimisation - Gradient et Descente de Gradient</a></span></li><li><span><a href=\"#Evaluation\" data-toc-modified-id=\"Evaluation-3.8\"><span class=\"toc-item-num\">3.8&nbsp;&nbsp;</span>Evaluation</a></span></li><li><span><a href=\"#Accuracy\" data-toc-modified-id=\"Accuracy-3.9\"><span class=\"toc-item-num\">3.9&nbsp;&nbsp;</span>Accuracy</a></span></li><li><span><a href=\"#Modele-final\" data-toc-modified-id=\"Modele-final-3.10\"><span class=\"toc-item-num\">3.10&nbsp;&nbsp;</span>Modele final</a></span></li><li><span><a href=\"#Confusion-Matrix\" data-toc-modified-id=\"Confusion-Matrix-3.11\"><span class=\"toc-item-num\">3.11&nbsp;&nbsp;</span>Confusion Matrix</a></span></li></ul></li><li><span><a href=\"#'Occupancy’-en-fonction-de-'CO2'-,-'Light'-and-'Humidity'.\" data-toc-modified-id=\"'Occupancy’-en-fonction-de-'CO2'-,-'Light'-and-'Humidity'.-4\"><span class=\"toc-item-num\">4&nbsp;&nbsp;</span>'Occupancy’ en fonction de 'CO2' , 'Light' and 'Humidity'.</a></span><ul class=\"toc-item\"><li><span><a href=\"#Split-the-dataset\" data-toc-modified-id=\"Split-the-dataset-4.1\"><span class=\"toc-item-num\">4.1&nbsp;&nbsp;</span>Split the dataset</a></span></li><li><span><a href=\"#the-dimensions-of-your-variables\" data-toc-modified-id=\"the-dimensions-of-your-variables-4.2\"><span class=\"toc-item-num\">4.2&nbsp;&nbsp;</span>the dimensions of your variables</a></span></li><li><span><a href=\"#Sigmoid\" data-toc-modified-id=\"Sigmoid-4.3\"><span class=\"toc-item-num\">4.3&nbsp;&nbsp;</span>Sigmoid</a></span></li><li><span><a href=\"#Modele\" data-toc-modified-id=\"Modele-4.4\"><span class=\"toc-item-num\">4.4&nbsp;&nbsp;</span>Modele</a></span></li><li><span><a href=\"#Cost-Function\" data-toc-modified-id=\"Cost-Function-4.5\"><span class=\"toc-item-num\">4.5&nbsp;&nbsp;</span>Cost Function</a></span></li><li><span><a href=\"#Optimisation---Gradient-et-Descente-de-Gradient\" data-toc-modified-id=\"Optimisation---Gradient-et-Descente-de-Gradient-4.6\"><span class=\"toc-item-num\">4.6&nbsp;&nbsp;</span>Optimisation - Gradient et Descente de Gradient</a></span></li><li><span><a href=\"#Evaluating-logistic-regression\" data-toc-modified-id=\"Evaluating-logistic-regression-4.7\"><span class=\"toc-item-num\">4.7&nbsp;&nbsp;</span>Evaluating logistic regression</a></span></li><li><span><a href=\"#Accurancy\" data-toc-modified-id=\"Accurancy-4.8\"><span class=\"toc-item-num\">4.8&nbsp;&nbsp;</span>Accurancy</a></span></li><li><span><a href=\"#Modèle-final\" data-toc-modified-id=\"Modèle-final-4.9\"><span class=\"toc-item-num\">4.9&nbsp;&nbsp;</span>Modèle final</a></span></li><li><span><a href=\"#Confusion-Matrix\" data-toc-modified-id=\"Confusion-Matrix-4.10\"><span class=\"toc-item-num\">4.10&nbsp;&nbsp;</span>Confusion Matrix</a></span></li></ul></li></ul></div>"
   ]
  },
  {
   "cell_type": "markdown",
   "id": "4ba34d4c",
   "metadata": {},
   "source": [
    "\n",
    "# Logistic Regression\n",
    "## Sigmoid function\n",
    "\n",
    "Recall that for logistic regression, the model is represented as\n",
    "\n",
    "$$ f_{\\mathbf{w},b}(x) = g(\\mathbf{w}\\cdot \\mathbf{x} + b)$$\n",
    "where function $g$ is the sigmoid function. The sigmoid function is defined as:\n",
    "\n",
    "$$g(z) = \\frac{1}{1+e^{-z}}$$\n",
    "\n",
    "Note that \n",
    "- `z` is not always a single number, but can also be an array of numbers. \n",
    "- If the input is an array of numbers, we'd like to apply the sigmoid function to each value in the input array.\n",
    "\n",
    "## Cost function for logistic regression\n",
    "The cost function is of the form \n",
    "\n",
    "$$ J(\\mathbf{w},b) = \\frac{1}{m}\\sum_{i=0}^{m-1} \\left[ loss(f_{\\mathbf{w},b}(\\mathbf{x}^{(i)}), y^{(i)}) \\right] \\tag{1}$$\n",
    "\n",
    "where\n",
    "* m is the number of training examples in the dataset\n",
    "\n",
    "\n",
    "* $loss(f_{\\mathbf{w},b}(\\mathbf{x}^{(i)}), y^{(i)})$ is the cost for a single data point, which is - \n",
    "\n",
    "    $$loss(f_{\\mathbf{w},b}(\\mathbf{x}^{(i)}), y^{(i)}) = (-y^{(i)} \\log\\left(f_{\\mathbf{w},b}\\left( \\mathbf{x}^{(i)} \\right) \\right) - \\left( 1 - y^{(i)}\\right) \\log \\left( 1 - f_{\\mathbf{w},b}\\left( \\mathbf{x}^{(i)} \\right) \\right) \\tag{2}$$\n",
    "    \n",
    "    \n",
    "*  $f_{\\mathbf{w},b}(\\mathbf{x}^{(i)})$ is the model's prediction, while $y^{(i)}$, which is the actual label\n",
    "\n",
    "*  $f_{\\mathbf{w},b}(\\mathbf{x}^{(i)}) = g(\\mathbf{w} \\cdot \\mathbf{x^{(i)}} + b)$ where function $g$ is the sigmoid function."
   ]
  },
  {
   "cell_type": "markdown",
   "id": "768619e0",
   "metadata": {},
   "source": [
    "<a name=\"2.5\"></a>\n",
    "### 2.5 Gradient for logistic regression\n",
    "\n",
    "Recall that the gradient descent algorithm is:\n",
    "\n",
    "$$\\begin{align*}& \\text{repeat until convergence:} \\; \\lbrace \\newline \\; & b := b -  \\alpha \\frac{\\partial J(\\mathbf{w},b)}{\\partial b} \\newline       \\; & w_j := w_j -  \\alpha \\frac{\\partial J(\\mathbf{w},b)}{\\partial w_j} \\tag{1}  \\; & \\text{for j := 0..n-1}\\newline & \\rbrace\\end{align*}$$\n",
    "\n",
    "\n",
    "$$\n",
    "\\frac{\\partial J(\\mathbf{w},b)}{\\partial b}  = \\frac{1}{m} \\sum\\limits_{i = 0}^{m-1} (f_{\\mathbf{w},b}(\\mathbf{x}^{(i)}) - \\mathbf{y}^{(i)}) \\tag{2}\n",
    "$$\n",
    "$$\n",
    "\\frac{\\partial J(\\mathbf{w},b)}{\\partial w_j}  = \\frac{1}{m} \\sum\\limits_{i = 0}^{m-1} (f_{\\mathbf{w},b}(\\mathbf{x}^{(i)}) - \\mathbf{y}^{(i)})x_{j}^{(i)} \\tag{3}\n",
    "$$\n",
    "* m is the number of training examples in the dataset\n",
    "\n",
    "    \n",
    "*  $f_{\\mathbf{w},b}(x^{(i)})$ is the model's prediction, while $y^{(i)}$ is the actual label\n",
    "\n",
    "\n",
    "- **Note**: While this gradient looks identical to the linear regression gradient, the formula is actually different because linear and logistic regression have different definitions of $f_{\\mathbf{w},b}(x)$.\n",
    "\n",
    "![regression logistic](https://miro.medium.com/v2/resize:fit:679/0*VkKvoiB4zD-P7yKa.gif)\n"
   ]
  },
  {
   "cell_type": "code",
   "execution_count": 56,
   "id": "00961034",
   "metadata": {},
   "outputs": [],
   "source": [
    "import numpy as np\n",
    "import matplotlib.pyplot as plt\n",
    "import pandas as pd\n",
    "from main import*\n",
    "%matplotlib inline\n",
    "%matplotlib notebook"
   ]
  },
  {
   "cell_type": "markdown",
   "id": "1eea030e",
   "metadata": {},
   "source": [
    "# Dataset"
   ]
  },
  {
   "cell_type": "code",
   "execution_count": 2,
   "id": "a3a91f62",
   "metadata": {
    "scrolled": false
   },
   "outputs": [
    {
     "data": {
      "text/html": [
       "<div>\n",
       "<style scoped>\n",
       "    .dataframe tbody tr th:only-of-type {\n",
       "        vertical-align: middle;\n",
       "    }\n",
       "\n",
       "    .dataframe tbody tr th {\n",
       "        vertical-align: top;\n",
       "    }\n",
       "\n",
       "    .dataframe thead th {\n",
       "        text-align: right;\n",
       "    }\n",
       "</style>\n",
       "<table border=\"1\" class=\"dataframe\">\n",
       "  <thead>\n",
       "    <tr style=\"text-align: right;\">\n",
       "      <th></th>\n",
       "      <th>date</th>\n",
       "      <th>Temperature</th>\n",
       "      <th>Humidity</th>\n",
       "      <th>Light</th>\n",
       "      <th>CO2</th>\n",
       "      <th>HumidityRatio</th>\n",
       "      <th>Occupancy</th>\n",
       "    </tr>\n",
       "  </thead>\n",
       "  <tbody>\n",
       "    <tr>\n",
       "      <th>140</th>\n",
       "      <td>2015-02-02 14:19:00</td>\n",
       "      <td>23.7000</td>\n",
       "      <td>26.272</td>\n",
       "      <td>585.200000</td>\n",
       "      <td>749.200000</td>\n",
       "      <td>0.004764</td>\n",
       "      <td>1</td>\n",
       "    </tr>\n",
       "    <tr>\n",
       "      <th>141</th>\n",
       "      <td>2015-02-02 14:19:59</td>\n",
       "      <td>23.7180</td>\n",
       "      <td>26.290</td>\n",
       "      <td>578.400000</td>\n",
       "      <td>760.400000</td>\n",
       "      <td>0.004773</td>\n",
       "      <td>1</td>\n",
       "    </tr>\n",
       "    <tr>\n",
       "      <th>142</th>\n",
       "      <td>2015-02-02 14:21:00</td>\n",
       "      <td>23.7300</td>\n",
       "      <td>26.230</td>\n",
       "      <td>572.666667</td>\n",
       "      <td>769.666667</td>\n",
       "      <td>0.004765</td>\n",
       "      <td>1</td>\n",
       "    </tr>\n",
       "    <tr>\n",
       "      <th>143</th>\n",
       "      <td>2015-02-02 14:22:00</td>\n",
       "      <td>23.7225</td>\n",
       "      <td>26.125</td>\n",
       "      <td>493.750000</td>\n",
       "      <td>774.750000</td>\n",
       "      <td>0.004744</td>\n",
       "      <td>1</td>\n",
       "    </tr>\n",
       "    <tr>\n",
       "      <th>144</th>\n",
       "      <td>2015-02-02 14:23:00</td>\n",
       "      <td>23.7540</td>\n",
       "      <td>26.200</td>\n",
       "      <td>488.600000</td>\n",
       "      <td>779.000000</td>\n",
       "      <td>0.004767</td>\n",
       "      <td>1</td>\n",
       "    </tr>\n",
       "  </tbody>\n",
       "</table>\n",
       "</div>"
      ],
      "text/plain": [
       "                    date  Temperature  Humidity       Light         CO2  \\\n",
       "140  2015-02-02 14:19:00      23.7000    26.272  585.200000  749.200000   \n",
       "141  2015-02-02 14:19:59      23.7180    26.290  578.400000  760.400000   \n",
       "142  2015-02-02 14:21:00      23.7300    26.230  572.666667  769.666667   \n",
       "143  2015-02-02 14:22:00      23.7225    26.125  493.750000  774.750000   \n",
       "144  2015-02-02 14:23:00      23.7540    26.200  488.600000  779.000000   \n",
       "\n",
       "     HumidityRatio  Occupancy  \n",
       "140       0.004764          1  \n",
       "141       0.004773          1  \n",
       "142       0.004765          1  \n",
       "143       0.004744          1  \n",
       "144       0.004767          1  "
      ]
     },
     "execution_count": 2,
     "metadata": {},
     "output_type": "execute_result"
    }
   ],
   "source": [
    "dataset = pd.read_csv(\"occupancy.csv\")\n",
    "dataset.head()"
   ]
  },
  {
   "cell_type": "code",
   "execution_count": 3,
   "id": "58141b43",
   "metadata": {},
   "outputs": [
    {
     "data": {
      "text/html": [
       "\n",
       "        <iframe\n",
       "            width=\"100%\"\n",
       "            height=\"500\"\n",
       "            src=\"pivottablejs.html\"\n",
       "            frameborder=\"0\"\n",
       "            allowfullscreen\n",
       "            \n",
       "        ></iframe>\n",
       "        "
      ],
      "text/plain": [
       "<IPython.lib.display.IFrame at 0x1f1e0435dd0>"
      ]
     },
     "execution_count": 3,
     "metadata": {},
     "output_type": "execute_result"
    }
   ],
   "source": [
    "from pivottablejs import pivot_ui\n",
    "pivot_ui(dataset)"
   ]
  },
  {
   "cell_type": "markdown",
   "id": "7eeee731",
   "metadata": {},
   "source": [
    "# 'Occupancy’ en fonction de 'CO2' , 'Light'"
   ]
  },
  {
   "cell_type": "code",
   "execution_count": 4,
   "id": "8a7ad28d",
   "metadata": {},
   "outputs": [],
   "source": [
    "X = dataset[['CO2', 'Light']].values\n",
    "y = dataset[['Occupancy']].values"
   ]
  },
  {
   "cell_type": "code",
   "execution_count": 5,
   "id": "bcfb1516",
   "metadata": {
    "scrolled": false
   },
   "outputs": [
    {
     "data": {
      "image/png": "[encoded data removed]",
      "text/plain": [
       "<Figure size 640x480 with 2 Axes>"
      ]
     },
     "metadata": {},
     "output_type": "display_data"
    }
   ],
   "source": [
    "dataset.plot.scatter(x='CO2',y='Light', c='Occupancy', colormap='winter')\n",
    "plt.show()"
   ]
  },
  {
   "cell_type": "markdown",
   "id": "3144f74d",
   "metadata": {},
   "source": [
    "## Split the dataset"
   ]
  },
  {
   "cell_type": "code",
   "execution_count": 6,
   "id": "e45a8de1",
   "metadata": {},
   "outputs": [],
   "source": [
    "from sklearn.model_selection import train_test_split\n",
    "x_train,x_test , y_train,y_test = train_test_split(X, y, test_size = 0.20, random_state=42)"
   ]
  },
  {
   "cell_type": "markdown",
   "id": "adc3b0ca",
   "metadata": {},
   "source": [
    "## Normalize the dataset"
   ]
  },
  {
   "cell_type": "code",
   "execution_count": 7,
   "id": "93f1e3ff",
   "metadata": {},
   "outputs": [],
   "source": [
    "x_train = (x_train - x_train.mean())/x_train.std()\n",
    "x_test = (x_test - x_test.mean())/x_test.std()"
   ]
  },
  {
   "cell_type": "markdown",
   "id": "e59afb38",
   "metadata": {},
   "source": [
    "## Dimensions of the variables"
   ]
  },
  {
   "cell_type": "code",
   "execution_count": 8,
   "id": "8fed0962",
   "metadata": {
    "scrolled": true
   },
   "outputs": [
    {
     "name": "stdout",
     "output_type": "stream",
     "text": [
      "(2132, 2)\n",
      "(533, 2)\n",
      "(2132, 1)\n",
      "(533, 1)\n"
     ]
    }
   ],
   "source": [
    "print(x_train.shape)\n",
    "print(x_test.shape)\n",
    "print(y_train.shape)\n",
    "print(y_test.shape)"
   ]
  },
  {
   "cell_type": "markdown",
   "id": "bbf8b20d",
   "metadata": {},
   "source": [
    "## Function Sigmoid"
   ]
  },
  {
   "cell_type": "code",
   "execution_count": 9,
   "id": "04e2c4ea",
   "metadata": {
    "scrolled": true
   },
   "outputs": [
    {
     "data": {
      "text/plain": [
       "array([[0.91748741, 0.49047431],\n",
       "       [0.57488468, 0.23004592],\n",
       "       [0.8415809 , 0.23004592],\n",
       "       ...,\n",
       "       [0.677862  , 0.49047431],\n",
       "       [0.84191435, 0.55259586],\n",
       "       [0.48224622, 0.23004592]])"
      ]
     },
     "execution_count": 9,
     "metadata": {},
     "output_type": "execute_result"
    }
   ],
   "source": [
    "sigmoid(x_train)"
   ]
  },
  {
   "cell_type": "code",
   "execution_count": 10,
   "id": "0183da03",
   "metadata": {},
   "outputs": [
    {
     "name": "stdout",
     "output_type": "stream",
     "text": [
      "[[ 0.1753483 ]\n",
      " [-0.24873202]]\n",
      "[-0.73551783]\n"
     ]
    }
   ],
   "source": [
    "W,b = initialisation(x_train)\n",
    "print(W)\n",
    "print(b)"
   ]
  },
  {
   "cell_type": "markdown",
   "id": "dd35fc55",
   "metadata": {},
   "source": [
    "## Modele "
   ]
  },
  {
   "cell_type": "code",
   "execution_count": 11,
   "id": "0143bbca",
   "metadata": {},
   "outputs": [
    {
     "name": "stdout",
     "output_type": "stream",
     "text": [
      "[[0.42465813]\n",
      " [0.4056169 ]\n",
      " [0.46451021]\n",
      " ...\n",
      " [0.35535407]\n",
      " [0.37877195]\n",
      " [0.3899567 ]]\n"
     ]
    }
   ],
   "source": [
    "A= modele(x_train, W, b)\n",
    "print(A)"
   ]
  },
  {
   "cell_type": "markdown",
   "id": "0dcba15f",
   "metadata": {},
   "source": [
    "## Cost Function"
   ]
  },
  {
   "cell_type": "code",
   "execution_count": 12,
   "id": "1e6f657d",
   "metadata": {},
   "outputs": [
    {
     "data": {
      "text/plain": [
       "0.6845769618742725"
      ]
     },
     "execution_count": 12,
     "metadata": {},
     "output_type": "execute_result"
    }
   ],
   "source": [
    "#log_loss(y_train,sigmoid(x_train))\n",
    "log_loss(y_train,A)"
   ]
  },
  {
   "cell_type": "markdown",
   "id": "1c7cac69",
   "metadata": {},
   "source": [
    "## Optimisation - Gradient et Descente de Gradient"
   ]
  },
  {
   "cell_type": "code",
   "execution_count": 13,
   "id": "ec951c70",
   "metadata": {
    "scrolled": true
   },
   "outputs": [
    {
     "name": "stdout",
     "output_type": "stream",
     "text": [
      "[[ 0.20257587]\n",
      " [-0.21656381]]\n"
     ]
    }
   ],
   "source": [
    "W,b = optimisation(x_train, W, b, A, y_train, 0.1)\n",
    "print(W)"
   ]
  },
  {
   "cell_type": "code",
   "execution_count": 14,
   "id": "fee5c90f",
   "metadata": {
    "scrolled": false
   },
   "outputs": [
    {
     "data": {
      "image/png": "[encoded data removed]",
      "text/plain": [
       "<Figure size 640x480 with 1 Axes>"
      ]
     },
     "metadata": {},
     "output_type": "display_data"
    }
   ],
   "source": [
    "W,b=regression_logistique(x_train, y_train)"
   ]
  },
  {
   "cell_type": "markdown",
   "id": "b42a859d",
   "metadata": {},
   "source": [
    "## Evaluation\n",
    "  - if $f(x^{(i)}) >= 0.5$, predict $y^{(i)}=1$\n",
    "  \n",
    "  - if $f(x^{(i)}) < 0.5$, predict $y^{(i)}=0$"
   ]
  },
  {
   "cell_type": "code",
   "execution_count": 15,
   "id": "55c82619",
   "metadata": {
    "scrolled": true
   },
   "outputs": [],
   "source": [
    "y_pred = predict(x_test,W,b)"
   ]
  },
  {
   "cell_type": "markdown",
   "id": "e2f8d667",
   "metadata": {},
   "source": [
    "## Accuracy"
   ]
  },
  {
   "cell_type": "code",
   "execution_count": 16,
   "id": "6a3cfda7",
   "metadata": {
    "scrolled": true
   },
   "outputs": [
    {
     "name": "stdout",
     "output_type": "stream",
     "text": [
      "Accuracy= 0.9774859287054409\n"
     ]
    }
   ],
   "source": [
    "from sklearn.metrics import accuracy_score\n",
    "print(\"Accuracy=\",accuracy_score(y_test, y_pred))"
   ]
  },
  {
   "cell_type": "markdown",
   "id": "faa1c597",
   "metadata": {},
   "source": [
    "## Modele final"
   ]
  },
  {
   "cell_type": "code",
   "execution_count": 17,
   "id": "6da70e01",
   "metadata": {},
   "outputs": [
    {
     "name": "stdout",
     "output_type": "stream",
     "text": [
      "[ True]\n",
      "[ True]\n",
      "[False]\n"
     ]
    },
    {
     "data": {
      "image/png": "[encoded data removed]",
      "text/plain": [
       "<Figure size 900x600 with 1 Axes>"
      ]
     },
     "metadata": {},
     "output_type": "display_data"
    }
   ],
   "source": [
    "# Visualiser le dataset\n",
    "fig, ax = plt.subplots(figsize=(9, 6))\n",
    "ax.scatter(x_train[:,0], x_train[:, 1], c=y_train, cmap='winter')\n",
    "\n",
    "# Dessiner la frontière de décision\n",
    "x1 = np.linspace(0, 3, 2665)\n",
    "x2 = ( - W[0] * x1 - b) / W[1]\n",
    "ax.plot(x1, x2, c='orange', lw=3)\n",
    "\n",
    "# Prédire la classe de nouveaux éléments\n",
    "new_1=np.array([1.21081821, 0.37853857])\n",
    "new_2=np.array([1.37708596, 0.64991657])\n",
    "new_3=np.array([0.04170188, -1.1935452])\n",
    "ax.scatter(new_1[0], new_1[1], c='r')\n",
    "ax.scatter(new_2[0], new_2[1], c='r')\n",
    "ax.scatter(new_3[0], new_3[1], c='r')\n",
    "print(predict(new_1, W, b))\n",
    "print(predict(new_2, W, b))\n",
    "print(predict(new_3, W, b))\n",
    "\n",
    "plt.show()"
   ]
  },
  {
   "cell_type": "markdown",
   "id": "59c823f8",
   "metadata": {},
   "source": [
    "## Confusion Matrix"
   ]
  },
  {
   "cell_type": "code",
   "execution_count": 18,
   "id": "73d373aa",
   "metadata": {},
   "outputs": [],
   "source": [
    "from sklearn.metrics import confusion_matrix\n",
    "cm = confusion_matrix(y_test, y_pred)\n",
    "#print(cm)"
   ]
  },
  {
   "cell_type": "code",
   "execution_count": 19,
   "id": "abebf09b",
   "metadata": {},
   "outputs": [
    {
     "data": {
      "image/png": "[encoded data removed]",
      "text/plain": [
       "<Figure size 640x480 with 2 Axes>"
      ]
     },
     "metadata": {},
     "output_type": "display_data"
    }
   ],
   "source": [
    "# Plot confusion matrix\n",
    "import seaborn as sns\n",
    "import pandas as pd\n",
    "# confusion matrix sns heatmap \n",
    "## https://www.kaggle.com/agungor2/various-confusion-matrix-plots\n",
    "ax = plt.axes()\n",
    "df_cm = cm\n",
    "sns.heatmap(df_cm, annot=True, annot_kws={\"size\": 30}, fmt='d',cmap=\"Blues\", ax = ax )\n",
    "ax.set_title('Confusion Matrix')\n",
    "plt.show()"
   ]
  },
  {
   "cell_type": "markdown",
   "id": "19f01172",
   "metadata": {},
   "source": [
    "-------------------------------------------------------------------------------------------------------------------"
   ]
  },
  {
   "cell_type": "markdown",
   "id": "85560473",
   "metadata": {},
   "source": [
    "#  'Occupancy’ en fonction de 'CO2' , 'Light' and 'Humidity'."
   ]
  },
  {
   "cell_type": "code",
   "execution_count": 39,
   "id": "61522175",
   "metadata": {},
   "outputs": [],
   "source": [
    "X = dataset[['CO2', 'Light','Humidity']].values\n",
    "y = dataset[['Occupancy']].values"
   ]
  },
  {
   "cell_type": "code",
   "execution_count": 40,
   "id": "2ac337c3",
   "metadata": {
    "scrolled": false
   },
   "outputs": [
    {
     "data": {
      "image/png": "[encoded data removed]",
      "text/plain": [
       "<Figure size 640x480 with 1 Axes>"
      ]
     },
     "metadata": {},
     "output_type": "display_data"
    }
   ],
   "source": [
    "from mpl_toolkits.mplot3d import Axes3D\n",
    "\n",
    "fig = plt.figure()\n",
    "ax = fig.add_subplot(111, projection='3d')\n",
    "\n",
    "ax.scatter(dataset['CO2'], dataset['Light'], dataset['Humidity'], c=dataset['Occupancy'], cmap='winter',alpha=0.7)\n",
    "\n",
    "ax.set_xlabel('CO2')\n",
    "ax.set_ylabel('Light')\n",
    "ax.set_zlabel('Occupancy')\n",
    "\n",
    "plt.show()"
   ]
  },
  {
   "cell_type": "markdown",
   "id": "98561804",
   "metadata": {},
   "source": [
    "## Split the dataset"
   ]
  },
  {
   "cell_type": "code",
   "execution_count": 41,
   "id": "6e5986cd",
   "metadata": {},
   "outputs": [],
   "source": [
    "from sklearn.model_selection import train_test_split\n",
    "x_train,x_test , y_train,y_test = train_test_split(X, y, test_size = 0.20, random_state=42)"
   ]
  },
  {
   "cell_type": "code",
   "execution_count": 42,
   "id": "188890f3",
   "metadata": {},
   "outputs": [],
   "source": [
    "x_train = (x_train - x_train.mean())/x_train.std()\n",
    "x_test = (x_test - x_test.mean())/x_test.std()"
   ]
  },
  {
   "cell_type": "markdown",
   "id": "f3c2ee41",
   "metadata": {},
   "source": [
    "## the dimensions of your variables"
   ]
  },
  {
   "cell_type": "code",
   "execution_count": 43,
   "id": "5f5e77ad",
   "metadata": {},
   "outputs": [
    {
     "name": "stdout",
     "output_type": "stream",
     "text": [
      "(2132, 3)\n",
      "(533, 3)\n",
      "(2132, 1)\n",
      "(533, 1)\n"
     ]
    }
   ],
   "source": [
    "print(x_train.shape)\n",
    "print(x_test.shape)\n",
    "print(y_train.shape)\n",
    "print(y_test.shape)"
   ]
  },
  {
   "cell_type": "markdown",
   "id": "e3dc2093",
   "metadata": {},
   "source": [
    "## Sigmoid\n"
   ]
  },
  {
   "cell_type": "code",
   "execution_count": 44,
   "id": "1ab1c3f2",
   "metadata": {},
   "outputs": [
    {
     "data": {
      "text/plain": [
       "array([[0.94544455, 0.58663035, 0.31794592],\n",
       "       [0.66767579, 0.30017338, 0.31475641],\n",
       "       [0.89061185, 0.30017338, 0.31725089],\n",
       "       ...,\n",
       "       [0.75949117, 0.58663035, 0.31444988],\n",
       "       [0.89086102, 0.64679664, 0.3159914 ],\n",
       "       [0.57843854, 0.30017338, 0.31306311]])"
      ]
     },
     "execution_count": 44,
     "metadata": {},
     "output_type": "execute_result"
    }
   ],
   "source": [
    "sigmoid(x_train)"
   ]
  },
  {
   "cell_type": "code",
   "execution_count": 45,
   "id": "e91bd550",
   "metadata": {
    "scrolled": false
   },
   "outputs": [
    {
     "name": "stdout",
     "output_type": "stream",
     "text": [
      "[[ 0.83258807]\n",
      " [-0.29716054]\n",
      " [-0.28370471]]\n",
      "[-0.53426222]\n"
     ]
    }
   ],
   "source": [
    "W,b = initialisation(x_train)\n",
    "print(W)\n",
    "print(b)"
   ]
  },
  {
   "cell_type": "markdown",
   "id": "4a3928e3",
   "metadata": {},
   "source": [
    "## Modele"
   ]
  },
  {
   "cell_type": "code",
   "execution_count": 46,
   "id": "5f71b827",
   "metadata": {
    "scrolled": true
   },
   "outputs": [
    {
     "name": "stdout",
     "output_type": "stream",
     "text": [
      "[[0.87579002]\n",
      " [0.62688607]\n",
      " [0.84299182]\n",
      " ...\n",
      " [0.63186378]\n",
      " [0.77784045]\n",
      " [0.55073107]]\n"
     ]
    }
   ],
   "source": [
    "A= modele(x_train, W, b)\n",
    "print(A)"
   ]
  },
  {
   "cell_type": "markdown",
   "id": "f6b2aa11",
   "metadata": {},
   "source": [
    "## Cost Function"
   ]
  },
  {
   "cell_type": "code",
   "execution_count": 47,
   "id": "91fbe5aa",
   "metadata": {},
   "outputs": [
    {
     "data": {
      "text/plain": [
       "0.7152953894764119"
      ]
     },
     "execution_count": 47,
     "metadata": {},
     "output_type": "execute_result"
    }
   ],
   "source": [
    "log_loss(y_train,A)"
   ]
  },
  {
   "cell_type": "markdown",
   "id": "8ab5c9a8",
   "metadata": {},
   "source": [
    "## Optimisation - Gradient et Descente de Gradient"
   ]
  },
  {
   "cell_type": "code",
   "execution_count": 48,
   "id": "c4f7a17d",
   "metadata": {},
   "outputs": [
    {
     "name": "stdout",
     "output_type": "stream",
     "text": [
      "[[ 0.82278496]\n",
      " [-0.26184233]\n",
      " [-0.26130256]]\n"
     ]
    }
   ],
   "source": [
    "W,b = optimisation(x_train, W, b, A, y_train, 0.1)\n",
    "print(W)"
   ]
  },
  {
   "cell_type": "code",
   "execution_count": 49,
   "id": "3e1521db",
   "metadata": {
    "scrolled": false
   },
   "outputs": [
    {
     "data": {
      "image/png": "[encoded data removed]",
      "text/plain": [
       "<Figure size 640x480 with 1 Axes>"
      ]
     },
     "metadata": {},
     "output_type": "display_data"
    }
   ],
   "source": [
    "W,b=regression_logistique(x_train, y_train)"
   ]
  },
  {
   "cell_type": "markdown",
   "id": "3116d369",
   "metadata": {},
   "source": [
    "##  Evaluating logistic regression\n",
    "  - if $f(x^{(i)}) >= 0.5$, predict $y^{(i)}=1$\n",
    "  \n",
    "  - if $f(x^{(i)}) < 0.5$, predict $y^{(i)}=0$"
   ]
  },
  {
   "cell_type": "code",
   "execution_count": 50,
   "id": "0b9c9a2e",
   "metadata": {},
   "outputs": [],
   "source": [
    "y_pred = predict(x_test,W,b)"
   ]
  },
  {
   "cell_type": "markdown",
   "id": "85e2d2ab",
   "metadata": {},
   "source": [
    "## Accurancy"
   ]
  },
  {
   "cell_type": "code",
   "execution_count": 51,
   "id": "cbbc3886",
   "metadata": {
    "scrolled": true
   },
   "outputs": [
    {
     "name": "stdout",
     "output_type": "stream",
     "text": [
      "Accuracy= 0.9774859287054409\n"
     ]
    }
   ],
   "source": [
    "print(\"Accuracy=\",accuracy_score(y_test, y_pred))"
   ]
  },
  {
   "cell_type": "markdown",
   "id": "b8cefe90",
   "metadata": {},
   "source": [
    "##  Modèle final"
   ]
  },
  {
   "cell_type": "code",
   "execution_count": 59,
   "id": "a85c695b",
   "metadata": {
    "scrolled": false
   },
   "outputs": [
    {
     "data": {
      "application/javascript": [
       "/* Put everything inside the global mpl namespace */\n",
       "/* global mpl */\n",
       "window.mpl = {};\n",
       "\n",
       "mpl.get_websocket_type = function () {\n",
       "    if (typeof WebSocket !== 'undefined') {\n",
       "        return WebSocket;\n",
       "    } else if (typeof MozWebSocket !== 'undefined') {\n",
       "        return MozWebSocket;\n",
       "    } else {\n",
       "        alert(\n",
       "            'Your browser does not have WebSocket support. ' +\n",
       "                'Please try Chrome, Safari or Firefox ≥ 6. ' +\n",
       "                'Firefox 4 and 5 are also supported but you ' +\n",
       "                'have to enable WebSockets in about:config.'\n",
       "        );\n",
       "    }\n",
       "};\n",
       "\n",
       "mpl.figure = function (figure_id, websocket, ondownload, parent_element) {\n",
       "    this.id = figure_id;\n",
       "\n",
       "    this.ws = websocket;\n",
       "\n",
       "    this.supports_binary = this.ws.binaryType !== undefined;\n",
       "\n",
       "    if (!this.supports_binary) {\n",
       "        var warnings = document.getElementById('mpl-warnings');\n",
       "        if (warnings) {\n",
       "            warnings.style.display = 'block';\n",
       "            warnings.textContent =\n",
       "                'This browser does not support binary websocket messages. ' +\n",
       "                'Performance may be slow.';\n",
       "        }\n",
       "    }\n",
       "\n",
       "    this.imageObj = new Image();\n",
       "\n",
       "    this.context = undefined;\n",
       "    this.message = undefined;\n",
       "    this.canvas = undefined;\n",
       "    this.rubberband_canvas = undefined;\n",
       "    this.rubberband_context = undefined;\n",
       "    this.format_dropdown = undefined;\n",
       "\n",
       "    this.image_mode = 'full';\n",
       "\n",
       "    this.root = document.createElement('div');\n",
       "    this.root.setAttribute('style', 'display: inline-block');\n",
       "    this._root_extra_style(this.root);\n",
       "\n",
       "    parent_element.appendChild(this.root);\n",
       "\n",
       "    this._init_header(this);\n",
       "    this._init_canvas(this);\n",
       "    this._init_toolbar(this);\n",
       "\n",
       "    var fig = this;\n",
       "\n",
       "    this.waiting = false;\n",
       "\n",
       "    this.ws.onopen = function () {\n",
       "        fig.send_message('supports_binary', { value: fig.supports_binary });\n",
       "        fig.send_message('send_image_mode', {});\n",
       "        if (fig.ratio !== 1) {\n",
       "            fig.send_message('set_device_pixel_ratio', {\n",
       "                device_pixel_ratio: fig.ratio,\n",
       "            });\n",
       "        }\n",
       "        fig.send_message('refresh', {});\n",
       "    };\n",
       "\n",
       "    this.imageObj.onload = function () {\n",
       "        if (fig.image_mode === 'full') {\n",
       "            // Full images could contain transparency (where diff images\n",
       "            // almost always do), so we need to clear the canvas so that\n",
       "            // there is no ghosting.\n",
       "            fig.context.clearRect(0, 0, fig.canvas.width, fig.canvas.height);\n",
       "        }\n",
       "        fig.context.drawImage(fig.imageObj, 0, 0);\n",
       "    };\n",
       "\n",
       "    this.imageObj.onunload = function () {\n",
       "        fig.ws.close();\n",
       "    };\n",
       "\n",
       "    this.ws.onmessage = this._make_on_message_function(this);\n",
       "\n",
       "    this.ondownload = ondownload;\n",
       "};\n",
       "\n",
       "mpl.figure.prototype._init_header = function () {\n",
       "    var titlebar = document.createElement('div');\n",
       "    titlebar.classList =\n",
       "        'ui-dialog-titlebar ui-widget-header ui-corner-all ui-helper-clearfix';\n",
       "    var titletext = document.createElement('div');\n",
       "    titletext.classList = 'ui-dialog-title';\n",
       "    titletext.setAttribute(\n",
       "        'style',\n",
       "        'width: 100%; text-align: center; padding: 3px;'\n",
       "    );\n",
       "    titlebar.appendChild(titletext);\n",
       "    this.root.appendChild(titlebar);\n",
       "    this.header = titletext;\n",
       "};\n",
       "\n",
       "mpl.figure.prototype._canvas_extra_style = function (_canvas_div) {};\n",
       "\n",
       "mpl.figure.prototype._root_extra_style = function (_canvas_div) {};\n",
       "\n",
       "mpl.figure.prototype._init_canvas = function () {\n",
       "    var fig = this;\n",
       "\n",
       "    var canvas_div = (this.canvas_div = document.createElement('div'));\n",
       "    canvas_div.setAttribute('tabindex', '0');\n",
       "    canvas_div.setAttribute(\n",
       "        'style',\n",
       "        'border: 1px solid #ddd;' +\n",
       "            'box-sizing: content-box;' +\n",
       "            'clear: both;' +\n",
       "            'min-height: 1px;' +\n",
       "            'min-width: 1px;' +\n",
       "            'outline: 0;' +\n",
       "            'overflow: hidden;' +\n",
       "            'position: relative;' +\n",
       "            'resize: both;' +\n",
       "            'z-index: 2;'\n",
       "    );\n",
       "\n",
       "    function on_keyboard_event_closure(name) {\n",
       "        return function (event) {\n",
       "            return fig.key_event(event, name);\n",
       "        };\n",
       "    }\n",
       "\n",
       "    canvas_div.addEventListener(\n",
       "        'keydown',\n",
       "        on_keyboard_event_closure('key_press')\n",
       "    );\n",
       "    canvas_div.addEventListener(\n",
       "        'keyup',\n",
       "        on_keyboard_event_closure('key_release')\n",
       "    );\n",
       "\n",
       "    this._canvas_extra_style(canvas_div);\n",
       "    this.root.appendChild(canvas_div);\n",
       "\n",
       "    var canvas = (this.canvas = document.createElement('canvas'));\n",
       "    canvas.classList.add('mpl-canvas');\n",
       "    canvas.setAttribute(\n",
       "        'style',\n",
       "        'box-sizing: content-box;' +\n",
       "            'pointer-events: none;' +\n",
       "            'position: relative;' +\n",
       "            'z-index: 0;'\n",
       "    );\n",
       "\n",
       "    this.context = canvas.getContext('2d');\n",
       "\n",
       "    var backingStore =\n",
       "        this.context.backingStorePixelRatio ||\n",
       "        this.context.webkitBackingStorePixelRatio ||\n",
       "        this.context.mozBackingStorePixelRatio ||\n",
       "        this.context.msBackingStorePixelRatio ||\n",
       "        this.context.oBackingStorePixelRatio ||\n",
       "        this.context.backingStorePixelRatio ||\n",
       "        1;\n",
       "\n",
       "    this.ratio = (window.devicePixelRatio || 1) / backingStore;\n",
       "\n",
       "    var rubberband_canvas = (this.rubberband_canvas = document.createElement(\n",
       "        'canvas'\n",
       "    ));\n",
       "    rubberband_canvas.setAttribute(\n",
       "        'style',\n",
       "        'box-sizing: content-box;' +\n",
       "            'left: 0;' +\n",
       "            'pointer-events: none;' +\n",
       "            'position: absolute;' +\n",
       "            'top: 0;' +\n",
       "            'z-index: 1;'\n",
       "    );\n",
       "\n",
       "    // Apply a ponyfill if ResizeObserver is not implemented by browser.\n",
       "    if (this.ResizeObserver === undefined) {\n",
       "        if (window.ResizeObserver !== undefined) {\n",
       "            this.ResizeObserver = window.ResizeObserver;\n",
       "        } else {\n",
       "            var obs = _JSXTOOLS_RESIZE_OBSERVER({});\n",
       "            this.ResizeObserver = obs.ResizeObserver;\n",
       "        }\n",
       "    }\n",
       "\n",
       "    this.resizeObserverInstance = new this.ResizeObserver(function (entries) {\n",
       "        var nentries = entries.length;\n",
       "        for (var i = 0; i < nentries; i++) {\n",
       "            var entry = entries[i];\n",
       "            var width, height;\n",
       "            if (entry.contentBoxSize) {\n",
       "                if (entry.contentBoxSize instanceof Array) {\n",
       "                    // Chrome 84 implements new version of spec.\n",
       "                    width = entry.contentBoxSize[0].inlineSize;\n",
       "                    height = entry.contentBoxSize[0].blockSize;\n",
       "                } else {\n",
       "                    // Firefox implements old version of spec.\n",
       "                    width = entry.contentBoxSize.inlineSize;\n",
       "                    height = entry.contentBoxSize.blockSize;\n",
       "                }\n",
       "            } else {\n",
       "                // Chrome <84 implements even older version of spec.\n",
       "                width = entry.contentRect.width;\n",
       "                height = entry.contentRect.height;\n",
       "            }\n",
       "\n",
       "            // Keep the size of the canvas and rubber band canvas in sync with\n",
       "            // the canvas container.\n",
       "            if (entry.devicePixelContentBoxSize) {\n",
       "                // Chrome 84 implements new version of spec.\n",
       "                canvas.setAttribute(\n",
       "                    'width',\n",
       "                    entry.devicePixelContentBoxSize[0].inlineSize\n",
       "                );\n",
       "                canvas.setAttribute(\n",
       "                    'height',\n",
       "                    entry.devicePixelContentBoxSize[0].blockSize\n",
       "                );\n",
       "            } else {\n",
       "                canvas.setAttribute('width', width * fig.ratio);\n",
       "                canvas.setAttribute('height', height * fig.ratio);\n",
       "            }\n",
       "            /* This rescales the canvas back to display pixels, so that it\n",
       "             * appears correct on HiDPI screens. */\n",
       "            canvas.style.width = width + 'px';\n",
       "            canvas.style.height = height + 'px';\n",
       "\n",
       "            rubberband_canvas.setAttribute('width', width);\n",
       "            rubberband_canvas.setAttribute('height', height);\n",
       "\n",
       "            // And update the size in Python. We ignore the initial 0/0 size\n",
       "            // that occurs as the element is placed into the DOM, which should\n",
       "            // otherwise not happen due to the minimum size styling.\n",
       "            if (fig.ws.readyState == 1 && width != 0 && height != 0) {\n",
       "                fig.request_resize(width, height);\n",
       "            }\n",
       "        }\n",
       "    });\n",
       "    this.resizeObserverInstance.observe(canvas_div);\n",
       "\n",
       "    function on_mouse_event_closure(name) {\n",
       "        /* User Agent sniffing is bad, but WebKit is busted:\n",
       "         * https://bugs.webkit.org/show_bug.cgi?id=144526\n",
       "         * https://bugs.webkit.org/show_bug.cgi?id=181818\n",
       "         * The worst that happens here is that they get an extra browser\n",
       "         * selection when dragging, if this check fails to catch them.\n",
       "         */\n",
       "        var UA = navigator.userAgent;\n",
       "        var isWebKit = /AppleWebKit/.test(UA) && !/Chrome/.test(UA);\n",
       "        if(isWebKit) {\n",
       "            return function (event) {\n",
       "                /* This prevents the web browser from automatically changing to\n",
       "                 * the text insertion cursor when the button is pressed. We\n",
       "                 * want to control all of the cursor setting manually through\n",
       "                 * the 'cursor' event from matplotlib */\n",
       "                event.preventDefault()\n",
       "                return fig.mouse_event(event, name);\n",
       "            };\n",
       "        } else {\n",
       "            return function (event) {\n",
       "                return fig.mouse_event(event, name);\n",
       "            };\n",
       "        }\n",
       "    }\n",
       "\n",
       "    canvas_div.addEventListener(\n",
       "        'mousedown',\n",
       "        on_mouse_event_closure('button_press')\n",
       "    );\n",
       "    canvas_div.addEventListener(\n",
       "        'mouseup',\n",
       "        on_mouse_event_closure('button_release')\n",
       "    );\n",
       "    canvas_div.addEventListener(\n",
       "        'dblclick',\n",
       "        on_mouse_event_closure('dblclick')\n",
       "    );\n",
       "    // Throttle sequential mouse events to 1 every 20ms.\n",
       "    canvas_div.addEventListener(\n",
       "        'mousemove',\n",
       "        on_mouse_event_closure('motion_notify')\n",
       "    );\n",
       "\n",
       "    canvas_div.addEventListener(\n",
       "        'mouseenter',\n",
       "        on_mouse_event_closure('figure_enter')\n",
       "    );\n",
       "    canvas_div.addEventListener(\n",
       "        'mouseleave',\n",
       "        on_mouse_event_closure('figure_leave')\n",
       "    );\n",
       "\n",
       "    canvas_div.addEventListener('wheel', function (event) {\n",
       "        if (event.deltaY < 0) {\n",
       "            event.step = 1;\n",
       "        } else {\n",
       "            event.step = -1;\n",
       "        }\n",
       "        on_mouse_event_closure('scroll')(event);\n",
       "    });\n",
       "\n",
       "    canvas_div.appendChild(canvas);\n",
       "    canvas_div.appendChild(rubberband_canvas);\n",
       "\n",
       "    this.rubberband_context = rubberband_canvas.getContext('2d');\n",
       "    this.rubberband_context.strokeStyle = '#000000';\n",
       "\n",
       "    this._resize_canvas = function (width, height, forward) {\n",
       "        if (forward) {\n",
       "            canvas_div.style.width = width + 'px';\n",
       "            canvas_div.style.height = height + 'px';\n",
       "        }\n",
       "    };\n",
       "\n",
       "    // Disable right mouse context menu.\n",
       "    canvas_div.addEventListener('contextmenu', function (_e) {\n",
       "        event.preventDefault();\n",
       "        return false;\n",
       "    });\n",
       "\n",
       "    function set_focus() {\n",
       "        canvas.focus();\n",
       "        canvas_div.focus();\n",
       "    }\n",
       "\n",
       "    window.setTimeout(set_focus, 100);\n",
       "};\n",
       "\n",
       "mpl.figure.prototype._init_toolbar = function () {\n",
       "    var fig = this;\n",
       "\n",
       "    var toolbar = document.createElement('div');\n",
       "    toolbar.classList = 'mpl-toolbar';\n",
       "    this.root.appendChild(toolbar);\n",
       "\n",
       "    function on_click_closure(name) {\n",
       "        return function (_event) {\n",
       "            return fig.toolbar_button_onclick(name);\n",
       "        };\n",
       "    }\n",
       "\n",
       "    function on_mouseover_closure(tooltip) {\n",
       "        return function (event) {\n",
       "            if (!event.currentTarget.disabled) {\n",
       "                return fig.toolbar_button_onmouseover(tooltip);\n",
       "            }\n",
       "        };\n",
       "    }\n",
       "\n",
       "    fig.buttons = {};\n",
       "    var buttonGroup = document.createElement('div');\n",
       "    buttonGroup.classList = 'mpl-button-group';\n",
       "    for (var toolbar_ind in mpl.toolbar_items) {\n",
       "        var name = mpl.toolbar_items[toolbar_ind][0];\n",
       "        var tooltip = mpl.toolbar_items[toolbar_ind][1];\n",
       "        var image = mpl.toolbar_items[toolbar_ind][2];\n",
       "        var method_name = mpl.toolbar_items[toolbar_ind][3];\n",
       "\n",
       "        if (!name) {\n",
       "            /* Instead of a spacer, we start a new button group. */\n",
       "            if (buttonGroup.hasChildNodes()) {\n",
       "                toolbar.appendChild(buttonGroup);\n",
       "            }\n",
       "            buttonGroup = document.createElement('div');\n",
       "            buttonGroup.classList = 'mpl-button-group';\n",
       "            continue;\n",
       "        }\n",
       "\n",
       "        var button = (fig.buttons[name] = document.createElement('button'));\n",
       "        button.classList = 'mpl-widget';\n",
       "        button.setAttribute('role', 'button');\n",
       "        button.setAttribute('aria-disabled', 'false');\n",
       "        button.addEventListener('click', on_click_closure(method_name));\n",
       "        button.addEventListener('mouseover', on_mouseover_closure(tooltip));\n",
       "\n",
       "        var icon_img = document.createElement('img');\n",
       "        icon_img.src = '_images/' + image + '.png';\n",
       "        icon_img.srcset = '_images/' + image + '_large.png 2x';\n",
       "        icon_img.alt = tooltip;\n",
       "        button.appendChild(icon_img);\n",
       "\n",
       "        buttonGroup.appendChild(button);\n",
       "    }\n",
       "\n",
       "    if (buttonGroup.hasChildNodes()) {\n",
       "        toolbar.appendChild(buttonGroup);\n",
       "    }\n",
       "\n",
       "    var fmt_picker = document.createElement('select');\n",
       "    fmt_picker.classList = 'mpl-widget';\n",
       "    toolbar.appendChild(fmt_picker);\n",
       "    this.format_dropdown = fmt_picker;\n",
       "\n",
       "    for (var ind in mpl.extensions) {\n",
       "        var fmt = mpl.extensions[ind];\n",
       "        var option = document.createElement('option');\n",
       "        option.selected = fmt === mpl.default_extension;\n",
       "        option.innerHTML = fmt;\n",
       "        fmt_picker.appendChild(option);\n",
       "    }\n",
       "\n",
       "    var status_bar = document.createElement('span');\n",
       "    status_bar.classList = 'mpl-message';\n",
       "    toolbar.appendChild(status_bar);\n",
       "    this.message = status_bar;\n",
       "};\n",
       "\n",
       "mpl.figure.prototype.request_resize = function (x_pixels, y_pixels) {\n",
       "    // Request matplotlib to resize the figure. Matplotlib will then trigger a resize in the client,\n",
       "    // which will in turn request a refresh of the image.\n",
       "    this.send_message('resize', { width: x_pixels, height: y_pixels });\n",
       "};\n",
       "\n",
       "mpl.figure.prototype.send_message = function (type, properties) {\n",
       "    properties['type'] = type;\n",
       "    properties['figure_id'] = this.id;\n",
       "    this.ws.send(JSON.stringify(properties));\n",
       "};\n",
       "\n",
       "mpl.figure.prototype.send_draw_message = function () {\n",
       "    if (!this.waiting) {\n",
       "        this.waiting = true;\n",
       "        this.ws.send(JSON.stringify({ type: 'draw', figure_id: this.id }));\n",
       "    }\n",
       "};\n",
       "\n",
       "mpl.figure.prototype.handle_save = function (fig, _msg) {\n",
       "    var format_dropdown = fig.format_dropdown;\n",
       "    var format = format_dropdown.options[format_dropdown.selectedIndex].value;\n",
       "    fig.ondownload(fig, format);\n",
       "};\n",
       "\n",
       "mpl.figure.prototype.handle_resize = function (fig, msg) {\n",
       "    var size = msg['size'];\n",
       "    if (size[0] !== fig.canvas.width || size[1] !== fig.canvas.height) {\n",
       "        fig._resize_canvas(size[0], size[1], msg['forward']);\n",
       "        fig.send_message('refresh', {});\n",
       "    }\n",
       "};\n",
       "\n",
       "mpl.figure.prototype.handle_rubberband = function (fig, msg) {\n",
       "    var x0 = msg['x0'] / fig.ratio;\n",
       "    var y0 = (fig.canvas.height - msg['y0']) / fig.ratio;\n",
       "    var x1 = msg['x1'] / fig.ratio;\n",
       "    var y1 = (fig.canvas.height - msg['y1']) / fig.ratio;\n",
       "    x0 = Math.floor(x0) + 0.5;\n",
       "    y0 = Math.floor(y0) + 0.5;\n",
       "    x1 = Math.floor(x1) + 0.5;\n",
       "    y1 = Math.floor(y1) + 0.5;\n",
       "    var min_x = Math.min(x0, x1);\n",
       "    var min_y = Math.min(y0, y1);\n",
       "    var width = Math.abs(x1 - x0);\n",
       "    var height = Math.abs(y1 - y0);\n",
       "\n",
       "    fig.rubberband_context.clearRect(\n",
       "        0,\n",
       "        0,\n",
       "        fig.canvas.width / fig.ratio,\n",
       "        fig.canvas.height / fig.ratio\n",
       "    );\n",
       "\n",
       "    fig.rubberband_context.strokeRect(min_x, min_y, width, height);\n",
       "};\n",
       "\n",
       "mpl.figure.prototype.handle_figure_label = function (fig, msg) {\n",
       "    // Updates the figure title.\n",
       "    fig.header.textContent = msg['label'];\n",
       "};\n",
       "\n",
       "mpl.figure.prototype.handle_cursor = function (fig, msg) {\n",
       "    fig.canvas_div.style.cursor = msg['cursor'];\n",
       "};\n",
       "\n",
       "mpl.figure.prototype.handle_message = function (fig, msg) {\n",
       "    fig.message.textContent = msg['message'];\n",
       "};\n",
       "\n",
       "mpl.figure.prototype.handle_draw = function (fig, _msg) {\n",
       "    // Request the server to send over a new figure.\n",
       "    fig.send_draw_message();\n",
       "};\n",
       "\n",
       "mpl.figure.prototype.handle_image_mode = function (fig, msg) {\n",
       "    fig.image_mode = msg['mode'];\n",
       "};\n",
       "\n",
       "mpl.figure.prototype.handle_history_buttons = function (fig, msg) {\n",
       "    for (var key in msg) {\n",
       "        if (!(key in fig.buttons)) {\n",
       "            continue;\n",
       "        }\n",
       "        fig.buttons[key].disabled = !msg[key];\n",
       "        fig.buttons[key].setAttribute('aria-disabled', !msg[key]);\n",
       "    }\n",
       "};\n",
       "\n",
       "mpl.figure.prototype.handle_navigate_mode = function (fig, msg) {\n",
       "    if (msg['mode'] === 'PAN') {\n",
       "        fig.buttons['Pan'].classList.add('active');\n",
       "        fig.buttons['Zoom'].classList.remove('active');\n",
       "    } else if (msg['mode'] === 'ZOOM') {\n",
       "        fig.buttons['Pan'].classList.remove('active');\n",
       "        fig.buttons['Zoom'].classList.add('active');\n",
       "    } else {\n",
       "        fig.buttons['Pan'].classList.remove('active');\n",
       "        fig.buttons['Zoom'].classList.remove('active');\n",
       "    }\n",
       "};\n",
       "\n",
       "mpl.figure.prototype.updated_canvas_event = function () {\n",
       "    // Called whenever the canvas gets updated.\n",
       "    this.send_message('ack', {});\n",
       "};\n",
       "\n",
       "// A function to construct a web socket function for onmessage handling.\n",
       "// Called in the figure constructor.\n",
       "mpl.figure.prototype._make_on_message_function = function (fig) {\n",
       "    return function socket_on_message(evt) {\n",
       "        if (evt.data instanceof Blob) {\n",
       "            var img = evt.data;\n",
       "            if (img.type !== 'image/png') {\n",
       "                /* FIXME: We get \"Resource interpreted as Image but\n",
       "                 * transferred with MIME type text/plain:\" errors on\n",
       "                 * Chrome.  But how to set the MIME type?  It doesn't seem\n",
       "                 * to be part of the websocket stream */\n",
       "                img.type = 'image/png';\n",
       "            }\n",
       "\n",
       "            /* Free the memory for the previous frames */\n",
       "            if (fig.imageObj.src) {\n",
       "                (window.URL || window.webkitURL).revokeObjectURL(\n",
       "                    fig.imageObj.src\n",
       "                );\n",
       "            }\n",
       "\n",
       "            fig.imageObj.src = (window.URL || window.webkitURL).createObjectURL(\n",
       "                img\n",
       "            );\n",
       "            fig.updated_canvas_event();\n",
       "            fig.waiting = false;\n",
       "            return;\n",
       "        } else if (\n",
       "            typeof evt.data === 'string' &&\n",
       "            evt.data.slice(0, 21) === 'data:image/png;base64'\n",
       "        ) {\n",
       "            fig.imageObj.src = evt.data;\n",
       "            fig.updated_canvas_event();\n",
       "            fig.waiting = false;\n",
       "            return;\n",
       "        }\n",
       "\n",
       "        var msg = JSON.parse(evt.data);\n",
       "        var msg_type = msg['type'];\n",
       "\n",
       "        // Call the  \"handle_{type}\" callback, which takes\n",
       "        // the figure and JSON message as its only arguments.\n",
       "        try {\n",
       "            var callback = fig['handle_' + msg_type];\n",
       "        } catch (e) {\n",
       "            console.log(\n",
       "                \"No handler for the '\" + msg_type + \"' message type: \",\n",
       "                msg\n",
       "            );\n",
       "            return;\n",
       "        }\n",
       "\n",
       "        if (callback) {\n",
       "            try {\n",
       "                // console.log(\"Handling '\" + msg_type + \"' message: \", msg);\n",
       "                callback(fig, msg);\n",
       "            } catch (e) {\n",
       "                console.log(\n",
       "                    \"Exception inside the 'handler_\" + msg_type + \"' callback:\",\n",
       "                    e,\n",
       "                    e.stack,\n",
       "                    msg\n",
       "                );\n",
       "            }\n",
       "        }\n",
       "    };\n",
       "};\n",
       "\n",
       "function getModifiers(event) {\n",
       "    var mods = [];\n",
       "    if (event.ctrlKey) {\n",
       "        mods.push('ctrl');\n",
       "    }\n",
       "    if (event.altKey) {\n",
       "        mods.push('alt');\n",
       "    }\n",
       "    if (event.shiftKey) {\n",
       "        mods.push('shift');\n",
       "    }\n",
       "    if (event.metaKey) {\n",
       "        mods.push('meta');\n",
       "    }\n",
       "    return mods;\n",
       "}\n",
       "\n",
       "/*\n",
       " * return a copy of an object with only non-object keys\n",
       " * we need this to avoid circular references\n",
       " * https://stackoverflow.com/a/24161582/3208463\n",
       " */\n",
       "function simpleKeys(original) {\n",
       "    return Object.keys(original).reduce(function (obj, key) {\n",
       "        if (typeof original[key] !== 'object') {\n",
       "            obj[key] = original[key];\n",
       "        }\n",
       "        return obj;\n",
       "    }, {});\n",
       "}\n",
       "\n",
       "mpl.figure.prototype.mouse_event = function (event, name) {\n",
       "    if (name === 'button_press') {\n",
       "        this.canvas.focus();\n",
       "        this.canvas_div.focus();\n",
       "    }\n",
       "\n",
       "    // from https://stackoverflow.com/q/1114465\n",
       "    var boundingRect = this.canvas.getBoundingClientRect();\n",
       "    var x = (event.clientX - boundingRect.left) * this.ratio;\n",
       "    var y = (event.clientY - boundingRect.top) * this.ratio;\n",
       "\n",
       "    this.send_message(name, {\n",
       "        x: x,\n",
       "        y: y,\n",
       "        button: event.button,\n",
       "        step: event.step,\n",
       "        modifiers: getModifiers(event),\n",
       "        guiEvent: simpleKeys(event),\n",
       "    });\n",
       "\n",
       "    return false;\n",
       "};\n",
       "\n",
       "mpl.figure.prototype._key_event_extra = function (_event, _name) {\n",
       "    // Handle any extra behaviour associated with a key event\n",
       "};\n",
       "\n",
       "mpl.figure.prototype.key_event = function (event, name) {\n",
       "    // Prevent repeat events\n",
       "    if (name === 'key_press') {\n",
       "        if (event.key === this._key) {\n",
       "            return;\n",
       "        } else {\n",
       "            this._key = event.key;\n",
       "        }\n",
       "    }\n",
       "    if (name === 'key_release') {\n",
       "        this._key = null;\n",
       "    }\n",
       "\n",
       "    var value = '';\n",
       "    if (event.ctrlKey && event.key !== 'Control') {\n",
       "        value += 'ctrl+';\n",
       "    }\n",
       "    else if (event.altKey && event.key !== 'Alt') {\n",
       "        value += 'alt+';\n",
       "    }\n",
       "    else if (event.shiftKey && event.key !== 'Shift') {\n",
       "        value += 'shift+';\n",
       "    }\n",
       "\n",
       "    value += 'k' + event.key;\n",
       "\n",
       "    this._key_event_extra(event, name);\n",
       "\n",
       "    this.send_message(name, { key: value, guiEvent: simpleKeys(event) });\n",
       "    return false;\n",
       "};\n",
       "\n",
       "mpl.figure.prototype.toolbar_button_onclick = function (name) {\n",
       "    if (name === 'download') {\n",
       "        this.handle_save(this, null);\n",
       "    } else {\n",
       "        this.send_message('toolbar_button', { name: name });\n",
       "    }\n",
       "};\n",
       "\n",
       "mpl.figure.prototype.toolbar_button_onmouseover = function (tooltip) {\n",
       "    this.message.textContent = tooltip;\n",
       "};\n",
       "\n",
       "///////////////// REMAINING CONTENT GENERATED BY embed_js.py /////////////////\n",
       "// prettier-ignore\n",
       "var _JSXTOOLS_RESIZE_OBSERVER=function(A){var t,i=new WeakMap,n=new WeakMap,a=new WeakMap,r=new WeakMap,o=new Set;function s(e){if(!(this instanceof s))throw new TypeError(\"Constructor requires 'new' operator\");i.set(this,e)}function h(){throw new TypeError(\"Function is not a constructor\")}function c(e,t,i,n){e=0 in arguments?Number(arguments[0]):0,t=1 in arguments?Number(arguments[1]):0,i=2 in arguments?Number(arguments[2]):0,n=3 in arguments?Number(arguments[3]):0,this.right=(this.x=this.left=e)+(this.width=i),this.bottom=(this.y=this.top=t)+(this.height=n),Object.freeze(this)}function d(){t=requestAnimationFrame(d);var s=new WeakMap,p=new Set;o.forEach((function(t){r.get(t).forEach((function(i){var r=t instanceof window.SVGElement,o=a.get(t),d=r?0:parseFloat(o.paddingTop),f=r?0:parseFloat(o.paddingRight),l=r?0:parseFloat(o.paddingBottom),u=r?0:parseFloat(o.paddingLeft),g=r?0:parseFloat(o.borderTopWidth),m=r?0:parseFloat(o.borderRightWidth),w=r?0:parseFloat(o.borderBottomWidth),b=u+f,F=d+l,v=(r?0:parseFloat(o.borderLeftWidth))+m,W=g+w,y=r?0:t.offsetHeight-W-t.clientHeight,E=r?0:t.offsetWidth-v-t.clientWidth,R=b+v,z=F+W,M=r?t.width:parseFloat(o.width)-R-E,O=r?t.height:parseFloat(o.height)-z-y;if(n.has(t)){var k=n.get(t);if(k[0]===M&&k[1]===O)return}n.set(t,[M,O]);var S=Object.create(h.prototype);S.target=t,S.contentRect=new c(u,d,M,O),s.has(i)||(s.set(i,[]),p.add(i)),s.get(i).push(S)}))})),p.forEach((function(e){i.get(e).call(e,s.get(e),e)}))}return s.prototype.observe=function(i){if(i instanceof window.Element){r.has(i)||(r.set(i,new Set),o.add(i),a.set(i,window.getComputedStyle(i)));var n=r.get(i);n.has(this)||n.add(this),cancelAnimationFrame(t),t=requestAnimationFrame(d)}},s.prototype.unobserve=function(i){if(i instanceof window.Element&&r.has(i)){var n=r.get(i);n.has(this)&&(n.delete(this),n.size||(r.delete(i),o.delete(i))),n.size||r.delete(i),o.size||cancelAnimationFrame(t)}},A.DOMRectReadOnly=c,A.ResizeObserver=s,A.ResizeObserverEntry=h,A}; // eslint-disable-line\n",
       "mpl.toolbar_items = [[\"Home\", \"Reset original view\", \"fa fa-home\", \"home\"], [\"Back\", \"Back to previous view\", \"fa fa-arrow-left\", \"back\"], [\"Forward\", \"Forward to next view\", \"fa fa-arrow-right\", \"forward\"], [\"\", \"\", \"\", \"\"], [\"Pan\", \"Left button pans, Right button zooms\\nx/y fixes axis, CTRL fixes aspect\", \"fa fa-arrows\", \"pan\"], [\"Zoom\", \"Zoom to rectangle\\nx/y fixes axis\", \"fa fa-square-o\", \"zoom\"], [\"\", \"\", \"\", \"\"], [\"Download\", \"Download plot\", \"fa fa-floppy-o\", \"download\"]];\n",
       "\n",
       "mpl.extensions = [\"eps\", \"jpeg\", \"pgf\", \"pdf\", \"png\", \"ps\", \"raw\", \"svg\", \"tif\", \"webp\"];\n",
       "\n",
       "mpl.default_extension = \"png\";/* global mpl */\n",
       "\n",
       "var comm_websocket_adapter = function (comm) {\n",
       "    // Create a \"websocket\"-like object which calls the given IPython comm\n",
       "    // object with the appropriate methods. Currently this is a non binary\n",
       "    // socket, so there is still some room for performance tuning.\n",
       "    var ws = {};\n",
       "\n",
       "    ws.binaryType = comm.kernel.ws.binaryType;\n",
       "    ws.readyState = comm.kernel.ws.readyState;\n",
       "    function updateReadyState(_event) {\n",
       "        if (comm.kernel.ws) {\n",
       "            ws.readyState = comm.kernel.ws.readyState;\n",
       "        } else {\n",
       "            ws.readyState = 3; // Closed state.\n",
       "        }\n",
       "    }\n",
       "    comm.kernel.ws.addEventListener('open', updateReadyState);\n",
       "    comm.kernel.ws.addEventListener('close', updateReadyState);\n",
       "    comm.kernel.ws.addEventListener('error', updateReadyState);\n",
       "\n",
       "    ws.close = function () {\n",
       "        comm.close();\n",
       "    };\n",
       "    ws.send = function (m) {\n",
       "        //console.log('sending', m);\n",
       "        comm.send(m);\n",
       "    };\n",
       "    // Register the callback with on_msg.\n",
       "    comm.on_msg(function (msg) {\n",
       "        //console.log('receiving', msg['content']['data'], msg);\n",
       "        var data = msg['content']['data'];\n",
       "        if (data['blob'] !== undefined) {\n",
       "            data = {\n",
       "                data: new Blob(msg['buffers'], { type: data['blob'] }),\n",
       "            };\n",
       "        }\n",
       "        // Pass the mpl event to the overridden (by mpl) onmessage function.\n",
       "        ws.onmessage(data);\n",
       "    });\n",
       "    return ws;\n",
       "};\n",
       "\n",
       "mpl.mpl_figure_comm = function (comm, msg) {\n",
       "    // This is the function which gets called when the mpl process\n",
       "    // starts-up an IPython Comm through the \"matplotlib\" channel.\n",
       "\n",
       "    var id = msg.content.data.id;\n",
       "    // Get hold of the div created by the display call when the Comm\n",
       "    // socket was opened in Python.\n",
       "    var element = document.getElementById(id);\n",
       "    var ws_proxy = comm_websocket_adapter(comm);\n",
       "\n",
       "    function ondownload(figure, _format) {\n",
       "        window.open(figure.canvas.toDataURL());\n",
       "    }\n",
       "\n",
       "    var fig = new mpl.figure(id, ws_proxy, ondownload, element);\n",
       "\n",
       "    // Call onopen now - mpl needs it, as it is assuming we've passed it a real\n",
       "    // web socket which is closed, not our websocket->open comm proxy.\n",
       "    ws_proxy.onopen();\n",
       "\n",
       "    fig.parent_element = element;\n",
       "    fig.cell_info = mpl.find_output_cell(\"<div id='\" + id + \"'></div>\");\n",
       "    if (!fig.cell_info) {\n",
       "        console.error('Failed to find cell for figure', id, fig);\n",
       "        return;\n",
       "    }\n",
       "    fig.cell_info[0].output_area.element.on(\n",
       "        'cleared',\n",
       "        { fig: fig },\n",
       "        fig._remove_fig_handler\n",
       "    );\n",
       "};\n",
       "\n",
       "mpl.figure.prototype.handle_close = function (fig, msg) {\n",
       "    var width = fig.canvas.width / fig.ratio;\n",
       "    fig.cell_info[0].output_area.element.off(\n",
       "        'cleared',\n",
       "        fig._remove_fig_handler\n",
       "    );\n",
       "    fig.resizeObserverInstance.unobserve(fig.canvas_div);\n",
       "\n",
       "    // Update the output cell to use the data from the current canvas.\n",
       "    fig.push_to_output();\n",
       "    var dataURL = fig.canvas.toDataURL();\n",
       "    // Re-enable the keyboard manager in IPython - without this line, in FF,\n",
       "    // the notebook keyboard shortcuts fail.\n",
       "    IPython.keyboard_manager.enable();\n",
       "    fig.parent_element.innerHTML =\n",
       "        '<img src=\"' + dataURL + '\" width=\"' + width + '\">';\n",
       "    fig.close_ws(fig, msg);\n",
       "};\n",
       "\n",
       "mpl.figure.prototype.close_ws = function (fig, msg) {\n",
       "    fig.send_message('closing', msg);\n",
       "    // fig.ws.close()\n",
       "};\n",
       "\n",
       "mpl.figure.prototype.push_to_output = function (_remove_interactive) {\n",
       "    // Turn the data on the canvas into data in the output cell.\n",
       "    var width = this.canvas.width / this.ratio;\n",
       "    var dataURL = this.canvas.toDataURL();\n",
       "    this.cell_info[1]['text/html'] =\n",
       "        '<img src=\"' + dataURL + '\" width=\"' + width + '\">';\n",
       "};\n",
       "\n",
       "mpl.figure.prototype.updated_canvas_event = function () {\n",
       "    // Tell IPython that the notebook contents must change.\n",
       "    IPython.notebook.set_dirty(true);\n",
       "    this.send_message('ack', {});\n",
       "    var fig = this;\n",
       "    // Wait a second, then push the new image to the DOM so\n",
       "    // that it is saved nicely (might be nice to debounce this).\n",
       "    setTimeout(function () {\n",
       "        fig.push_to_output();\n",
       "    }, 1000);\n",
       "};\n",
       "\n",
       "mpl.figure.prototype._init_toolbar = function () {\n",
       "    var fig = this;\n",
       "\n",
       "    var toolbar = document.createElement('div');\n",
       "    toolbar.classList = 'btn-toolbar';\n",
       "    this.root.appendChild(toolbar);\n",
       "\n",
       "    function on_click_closure(name) {\n",
       "        return function (_event) {\n",
       "            return fig.toolbar_button_onclick(name);\n",
       "        };\n",
       "    }\n",
       "\n",
       "    function on_mouseover_closure(tooltip) {\n",
       "        return function (event) {\n",
       "            if (!event.currentTarget.disabled) {\n",
       "                return fig.toolbar_button_onmouseover(tooltip);\n",
       "            }\n",
       "        };\n",
       "    }\n",
       "\n",
       "    fig.buttons = {};\n",
       "    var buttonGroup = document.createElement('div');\n",
       "    buttonGroup.classList = 'btn-group';\n",
       "    var button;\n",
       "    for (var toolbar_ind in mpl.toolbar_items) {\n",
       "        var name = mpl.toolbar_items[toolbar_ind][0];\n",
       "        var tooltip = mpl.toolbar_items[toolbar_ind][1];\n",
       "        var image = mpl.toolbar_items[toolbar_ind][2];\n",
       "        var method_name = mpl.toolbar_items[toolbar_ind][3];\n",
       "\n",
       "        if (!name) {\n",
       "            /* Instead of a spacer, we start a new button group. */\n",
       "            if (buttonGroup.hasChildNodes()) {\n",
       "                toolbar.appendChild(buttonGroup);\n",
       "            }\n",
       "            buttonGroup = document.createElement('div');\n",
       "            buttonGroup.classList = 'btn-group';\n",
       "            continue;\n",
       "        }\n",
       "\n",
       "        button = fig.buttons[name] = document.createElement('button');\n",
       "        button.classList = 'btn btn-default';\n",
       "        button.href = '#';\n",
       "        button.title = name;\n",
       "        button.innerHTML = '<i class=\"fa ' + image + ' fa-lg\"></i>';\n",
       "        button.addEventListener('click', on_click_closure(method_name));\n",
       "        button.addEventListener('mouseover', on_mouseover_closure(tooltip));\n",
       "        buttonGroup.appendChild(button);\n",
       "    }\n",
       "\n",
       "    if (buttonGroup.hasChildNodes()) {\n",
       "        toolbar.appendChild(buttonGroup);\n",
       "    }\n",
       "\n",
       "    // Add the status bar.\n",
       "    var status_bar = document.createElement('span');\n",
       "    status_bar.classList = 'mpl-message pull-right';\n",
       "    toolbar.appendChild(status_bar);\n",
       "    this.message = status_bar;\n",
       "\n",
       "    // Add the close button to the window.\n",
       "    var buttongrp = document.createElement('div');\n",
       "    buttongrp.classList = 'btn-group inline pull-right';\n",
       "    button = document.createElement('button');\n",
       "    button.classList = 'btn btn-mini btn-primary';\n",
       "    button.href = '#';\n",
       "    button.title = 'Stop Interaction';\n",
       "    button.innerHTML = '<i class=\"fa fa-power-off icon-remove icon-large\"></i>';\n",
       "    button.addEventListener('click', function (_evt) {\n",
       "        fig.handle_close(fig, {});\n",
       "    });\n",
       "    button.addEventListener(\n",
       "        'mouseover',\n",
       "        on_mouseover_closure('Stop Interaction')\n",
       "    );\n",
       "    buttongrp.appendChild(button);\n",
       "    var titlebar = this.root.querySelector('.ui-dialog-titlebar');\n",
       "    titlebar.insertBefore(buttongrp, titlebar.firstChild);\n",
       "};\n",
       "\n",
       "mpl.figure.prototype._remove_fig_handler = function (event) {\n",
       "    var fig = event.data.fig;\n",
       "    if (event.target !== this) {\n",
       "        // Ignore bubbled events from children.\n",
       "        return;\n",
       "    }\n",
       "    fig.close_ws(fig, {});\n",
       "};\n",
       "\n",
       "mpl.figure.prototype._root_extra_style = function (el) {\n",
       "    el.style.boxSizing = 'content-box'; // override notebook setting of border-box.\n",
       "};\n",
       "\n",
       "mpl.figure.prototype._canvas_extra_style = function (el) {\n",
       "    // this is important to make the div 'focusable\n",
       "    el.setAttribute('tabindex', 0);\n",
       "    // reach out to IPython and tell the keyboard manager to turn it's self\n",
       "    // off when our div gets focus\n",
       "\n",
       "    // location in version 3\n",
       "    if (IPython.notebook.keyboard_manager) {\n",
       "        IPython.notebook.keyboard_manager.register_events(el);\n",
       "    } else {\n",
       "        // location in version 2\n",
       "        IPython.keyboard_manager.register_events(el);\n",
       "    }\n",
       "};\n",
       "\n",
       "mpl.figure.prototype._key_event_extra = function (event, _name) {\n",
       "    // Check for shift+enter\n",
       "    if (event.shiftKey && event.which === 13) {\n",
       "        this.canvas_div.blur();\n",
       "        // select the cell after this one\n",
       "        var index = IPython.notebook.find_cell_index(this.cell_info[0]);\n",
       "        IPython.notebook.select(index + 1);\n",
       "    }\n",
       "};\n",
       "\n",
       "mpl.figure.prototype.handle_save = function (fig, _msg) {\n",
       "    fig.ondownload(fig, null);\n",
       "};\n",
       "\n",
       "mpl.find_output_cell = function (html_output) {\n",
       "    // Return the cell and output element which can be found *uniquely* in the notebook.\n",
       "    // Note - this is a bit hacky, but it is done because the \"notebook_saving.Notebook\"\n",
       "    // IPython event is triggered only after the cells have been serialised, which for\n",
       "    // our purposes (turning an active figure into a static one), is too late.\n",
       "    var cells = IPython.notebook.get_cells();\n",
       "    var ncells = cells.length;\n",
       "    for (var i = 0; i < ncells; i++) {\n",
       "        var cell = cells[i];\n",
       "        if (cell.cell_type === 'code') {\n",
       "            for (var j = 0; j < cell.output_area.outputs.length; j++) {\n",
       "                var data = cell.output_area.outputs[j];\n",
       "                if (data.data) {\n",
       "                    // IPython >= 3 moved mimebundle to data attribute of output\n",
       "                    data = data.data;\n",
       "                }\n",
       "                if (data['text/html'] === html_output) {\n",
       "                    return [cell, data, j];\n",
       "                }\n",
       "            }\n",
       "        }\n",
       "    }\n",
       "};\n",
       "\n",
       "// Register the function which deals with the matplotlib target/channel.\n",
       "// The kernel may be null if the page has been refreshed.\n",
       "if (IPython.notebook.kernel !== null) {\n",
       "    IPython.notebook.kernel.comm_manager.register_target(\n",
       "        'matplotlib',\n",
       "        mpl.mpl_figure_comm\n",
       "    );\n",
       "}\n"
      ],
      "text/plain": [
       "<IPython.core.display.Javascript object>"
      ]
     },
     "metadata": {},
     "output_type": "display_data"
    },
    {
     "data": {
      "text/html": [
       "<img src=\"data:image/png;base64,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\" width=\"640\">"
      ],
      "text/plain": [
       "<IPython.core.display.HTML object>"
      ]
     },
     "metadata": {},
     "output_type": "display_data"
    },
    {
     "name": "stdout",
     "output_type": "stream",
     "text": [
      "[ True]\n",
      "[ True]\n",
      "[False]\n"
     ]
    }
   ],
   "source": [
    "# Visualiser le dataset en 3D\n",
    "fig = plt.figure()\n",
    "ax = fig.add_subplot(111, projection='3d')\n",
    "scatter = ax.scatter(x_test[:, 0], x_test[:, 1], x_test[:, 2], c=y_test, cmap='winter')\n",
    "\n",
    "x1 = np.linspace(0, 4, 400)\n",
    "x2 = np.linspace(-2,2,400)\n",
    "x1,x2 = np.meshgrid(x1,x2)\n",
    "x3 = (-W[0] * x1 -W[1] * x2 - b) / W[2]\n",
    "\n",
    "ax.plot_surface(x1, x2,x3,alpha = 0.3 , color ='black')\n",
    "\n",
    "new_1 = np.array([1.6287235, 0.77406379, -0.76909941])\n",
    "new_2 = np.array([1.79946221, 1.05273917, -0.77012771])\n",
    "new_3 = np.array([0.42816953, -0.84029345, -0.77804352])\n",
    "\n",
    "ax.scatter(new_1[0], new_1[1], new_1[2], c='r')\n",
    "ax.scatter(new_2[0], new_2[1], new_2[2], c='b')\n",
    "ax.scatter(new_3[0], new_3[1], new_3[2], c='y')\n",
    "\n",
    "\n",
    "print(predict(new_1, W, b))\n",
    "print(predict(new_2, W, b))\n",
    "print(predict(new_3, W, b))\n",
    "\n",
    "ax.set_xlabel('CO2')\n",
    "ax.set_ylabel('Light')\n",
    "ax.set_zlabel('Humidity')\n",
    "\n",
    "# Ajouter une barre de couleur\n",
    "fig.colorbar(scatter, ax=ax, label='Occurancy')\n",
    "\n",
    "plt.show()\n"
   ]
  },
  {
   "cell_type": "markdown",
   "id": "be590e6c",
   "metadata": {},
   "source": [
    "## Confusion Matrix"
   ]
  },
  {
   "cell_type": "code",
   "execution_count": 34,
   "id": "d6db1aac",
   "metadata": {
    "scrolled": true
   },
   "outputs": [],
   "source": [
    "from sklearn.metrics import confusion_matrix\n",
    "cm = confusion_matrix(y_test, y_pred)\n",
    "#print(cm)"
   ]
  },
  {
   "cell_type": "code",
   "execution_count": 35,
   "id": "1abc5628",
   "metadata": {},
   "outputs": [
    {
     "data": {
      "image/png": "[encoded data removed]",
      "text/plain": [
       "<Figure size 640x480 with 2 Axes>"
      ]
     },
     "metadata": {},
     "output_type": "display_data"
    }
   ],
   "source": [
    "# Plot confusion matrix\n",
    "import seaborn as sns\n",
    "import pandas as pd\n",
    "# confusion matrix sns heatmap \n",
    "## https://www.kaggle.com/agungor2/various-confusion-matrix-plots\n",
    "ax = plt.axes()\n",
    "df_cm = cm\n",
    "sns.heatmap(df_cm, annot=True, annot_kws={\"size\": 30}, fmt='d',cmap=\"Blues\", ax = ax )\n",
    "ax.set_title('Confusion Matrix')\n",
    "plt.show()"
   ]
  },
  {
   "cell_type": "code",
   "execution_count": null,
   "id": "eb3f8d91",
   "metadata": {},
   "outputs": [],
   "source": []
  },
  {
   "cell_type": "code",
   "execution_count": null,
   "id": "73fe6439",
   "metadata": {},
   "outputs": [],
   "source": []
  }
 ],
 "metadata": {
  "kernelspec": {
   "display_name": "Python 3 (ipykernel)",
   "language": "python",
   "name": "python3"
  },
  "language_info": {
   "codemirror_mode": {
    "name": "ipython",
    "version": 3
   },
   "file_extension": ".py",
   "mimetype": "text/x-python",
   "name": "python",
   "nbconvert_exporter": "python",
   "pygments_lexer": "ipython3",
   "version": "3.11.5"
  },
  "toc": {
   "base_numbering": 1,
   "nav_menu": {},
   "number_sections": true,
   "sideBar": true,
   "skip_h1_title": false,
   "title_cell": "Table of Contents",
   "title_sidebar": "Contents",
   "toc_cell": true,
   "toc_position": {},
   "toc_section_display": true,
   "toc_window_display": false
  }
 },
 "nbformat": 4,
 "nbformat_minor": 5
}
